{
  "nbformat": 4,
  "nbformat_minor": 0,
  "metadata": {
    "colab": {
      "name": "Final_Simner_Sidney.ipynb",
      "provenance": [],
      "collapsed_sections": []
    },
    "kernelspec": {
      "name": "python3",
      "display_name": "Python 3"
    },
    "language_info": {
      "name": "python"
    }
  },
  "cells": [
    {
      "cell_type": "markdown",
      "metadata": {
        "id": "K_-3sRVowJbZ"
      },
      "source": [
        "# **Machine Learning Final Project**\n",
        "## code and insights by Sidney Simner\n",
        "\n",
        "\n",
        "---\n",
        "\n"
      ]
    },
    {
      "cell_type": "markdown",
      "metadata": {
        "id": "IYfU1OX3X-w8"
      },
      "source": [
        "# **Introduction**\n"
      ]
    },
    {
      "cell_type": "markdown",
      "metadata": {
        "id": "ennNSFYGUpZe"
      },
      "source": [
        "## Column Definitions\n",
        "- **track**: The Name of the track.\n",
        "\n",
        "- **artist**: The Name of the Artist.\n",
        "\n",
        "- **uri**: The resource identifier for the track.\n",
        "\n",
        "- **danceability**: Danceability describes how suitable a track is for dancing based on a combination of musical elements including tempo, rhythm stability, beat strength, and overall regularity. A value of 0.0 is least danceable and 1.0 is most danceable. \n",
        "\n",
        "- **energy**: Energy is a measure from 0.0 to 1.0 and represents a perceptual measure of intensity and activity. Typically, energetic tracks feel fast, loud, and noisy. For example, death metal has high energy, while a Bach prelude scores low on the scale. Perceptual features contributing to this attribute include dynamic range, perceived loudness, timbre, onset rate, and general entropy. \n",
        "\n",
        "- **key**: The estimated overall key of the track. Integers map to pitches using standard Pitch Class notation. E.g. 0 = C, 1 = C?/D?, 2 = D, and so on. If no key was detected, the value is -1.\n",
        "\n",
        "- **loudness**: The overall loudness of a track in decibels (dB). Loudness values are averaged across the entire track and are useful for comparing relative loudness of tracks. Loudness is the quality of a sound that is the primary psychological correlate of physical strength (amplitude). Values typical range between -60 and 0 db. \n",
        "\n",
        "- **mode**: Mode indicates the modality (major or minor) of a track, the type of scale from which its melodic content is derived. Major is represented by 1 and minor is 0.\n",
        "\n",
        "- **speechiness**: Speechiness detects the presence of spoken words in a track. The more exclusively speech-like the recording (e.g. talk show, audio book, poetry), the closer to 1.0 the attribute value. Values above 0.66 describe tracks that are probably made entirely of spoken words. Values between 0.33 and 0.66 describe tracks that may contain both music and speech, either in sections or layered, including such cases as rap music. Values below 0.33 most likely represent music and other non-speech-like tracks. \n",
        "\n",
        "- **acousticness**: A confidence measure from 0.0 to 1.0 of whether the track is acoustic. 1.0 represents high confidence the track is acoustic. The distribution of values for this feature look like this:\n",
        "\n",
        "- **instrumentalness**: Predicts whether a track contains no vocals. “Ooh” and “aah” sounds are treated as instrumental in this context. Rap or spoken word tracks are clearly “vocal”. The closer the instrumentalness value is to 1.0, the greater likelihood the track contains no vocal content. Values above 0.5 are intended to represent instrumental tracks, but confidence is higher as the value approaches 1.0. The distribution of values for this feature look like this:\n",
        "\n",
        "- **liveness**: Detects the presence of an audience in the recording. Higher liveness values represent an increased probability that the track was performed live. A value above 0.8 provides strong likelihood that the track is live.\n",
        "\n",
        "- **valence**: A measure from 0.0 to 1.0 describing the musical positiveness conveyed by a track. Tracks with high valence sound more positive (e.g. happy, cheerful, euphoric), while tracks with low valence sound more negative (e.g. sad, depressed, angry).\n",
        "\n",
        "- **tempo**: The overall estimated tempo of a track in beats per minute (BPM). In musical terminology, tempo is the speed or pace of a given piece and derives directly from the average beat duration. \n",
        "\n",
        "- **duration_ms**:  The duration of the track in milliseconds.\n",
        "\n",
        "- **time_signature**: An estimated overall time signature of a track. The time signature (meter) is a notational convention to specify how many beats are in each bar (or measure).\n",
        "\n",
        "- **chorus_hit**: This the the author's best estimate of when the chorus would start for the track. Its the timestamp of the start of the third section of the track. This feature was extracted from the data received by the API call for Audio Analysis of that particular track.\n",
        "\n",
        "- **sections**: The number of sections the particular track has. This feature was extracted from the data received by the API call for Audio Analysis of that particular track.\n",
        "\n",
        "- **target**: The target variable for the track. It can be either '0' or '1'. '1' implies that this song has featured in the weekly list (Issued by Billboards) of Hot-100 tracks in that decade at least once and is therefore a 'hit'. '0' Implies that the track is a 'flop'.\n",
        "\n",
        "- The author's condition of a track being 'flop' is as follows:\n",
        "\n",
        "    - The track must not appear in the 'hit' list of that decade.\n",
        "    - The track's artist must not appear in the 'hit' list of that decade.\n",
        "    - The track must belong to a genre that could be considered non-mainstream and / or avant-garde. \n",
        "    - The track's genre must not have a song in the 'hit' list.\n",
        "    - The track must have 'US' as one of its markets."
      ]
    },
    {
      "cell_type": "markdown",
      "metadata": {
        "id": "SiHuNNzHZ_fy"
      },
      "source": [
        "# Libraries "
      ]
    },
    {
      "cell_type": "code",
      "metadata": {
        "id": "-b_GpD_MaCPS",
        "colab": {
          "base_uri": "https://localhost:8080/"
        },
        "outputId": "c212ac06-9b65-4c51-d7c0-96557a26e163"
      },
      "source": [
        "import pandas as pd\n",
        "import numpy as np\n",
        "import matplotlib.pyplot as plt\n",
        "from sklearn import metrics\n",
        "from sklearn import linear_model\n",
        "from sklearn.model_selection import train_test_split\n",
        "from sklearn.ensemble import BaggingClassifier\n",
        "from sklearn.metrics import accuracy_score\n",
        "from sklearn.tree import DecisionTreeClassifier\n",
        "from sklearn import tree\n",
        "from sklearn.dummy import DummyClassifier\n",
        "from sklearn.ensemble import RandomForestClassifier\n",
        "from sklearn.ensemble import AdaBoostClassifier\n",
        "\n",
        "from sklearn.metrics import (\n",
        "    classification_report,\n",
        "    recall_score,\n",
        "    precision_score,\n",
        "    accuracy_score)\n",
        "\n",
        "from sklearn.ensemble import RandomForestRegressor\n",
        "import seaborn as sns \n",
        "from sklearn.linear_model import Ridge\n",
        "from sklearn.linear_model import Lasso\n",
        "from sklearn.metrics import mean_squared_error\n",
        "from yellowbrick.regressor import ResidualsPlot\n",
        "from sklearn.model_selection import cross_val_score"
      ],
      "execution_count": 1,
      "outputs": [
        {
          "output_type": "stream",
          "text": [
            "/usr/local/lib/python3.7/dist-packages/sklearn/utils/deprecation.py:144: FutureWarning: The sklearn.metrics.classification module is  deprecated in version 0.22 and will be removed in version 0.24. The corresponding classes / functions should instead be imported from sklearn.metrics. Anything that cannot be imported from sklearn.metrics is now part of the private API.\n",
            "  warnings.warn(message, FutureWarning)\n"
          ],
          "name": "stderr"
        }
      ]
    },
    {
      "cell_type": "markdown",
      "metadata": {
        "id": "ngW_F2iIYGjn"
      },
      "source": [
        "# **Preprocessing**"
      ]
    },
    {
      "cell_type": "code",
      "metadata": {
        "id": "cd13U5HUe0KD"
      },
      "source": [
        "data = pd.read_csv(\"dataset-of-70s.csv\")"
      ],
      "execution_count": 2,
      "outputs": []
    },
    {
      "cell_type": "markdown",
      "metadata": {
        "id": "33_5xP-aYWCa"
      },
      "source": [
        "## Data Exploration"
      ]
    },
    {
      "cell_type": "code",
      "metadata": {
        "colab": {
          "base_uri": "https://localhost:8080/",
          "height": 325
        },
        "id": "iBgfDArHacTa",
        "outputId": "125245a4-831a-423f-cc43-79a5dc1afa0b"
      },
      "source": [
        "data.head()"
      ],
      "execution_count": 3,
      "outputs": [
        {
          "output_type": "execute_result",
          "data": {
            "text/html": [
              "<div>\n",
              "<style scoped>\n",
              "    .dataframe tbody tr th:only-of-type {\n",
              "        vertical-align: middle;\n",
              "    }\n",
              "\n",
              "    .dataframe tbody tr th {\n",
              "        vertical-align: top;\n",
              "    }\n",
              "\n",
              "    .dataframe thead th {\n",
              "        text-align: right;\n",
              "    }\n",
              "</style>\n",
              "<table border=\"1\" class=\"dataframe\">\n",
              "  <thead>\n",
              "    <tr style=\"text-align: right;\">\n",
              "      <th></th>\n",
              "      <th>track</th>\n",
              "      <th>artist</th>\n",
              "      <th>uri</th>\n",
              "      <th>danceability</th>\n",
              "      <th>energy</th>\n",
              "      <th>key</th>\n",
              "      <th>loudness</th>\n",
              "      <th>mode</th>\n",
              "      <th>speechiness</th>\n",
              "      <th>acousticness</th>\n",
              "      <th>instrumentalness</th>\n",
              "      <th>liveness</th>\n",
              "      <th>valence</th>\n",
              "      <th>tempo</th>\n",
              "      <th>duration_ms</th>\n",
              "      <th>time_signature</th>\n",
              "      <th>chorus_hit</th>\n",
              "      <th>sections</th>\n",
              "      <th>target</th>\n",
              "    </tr>\n",
              "  </thead>\n",
              "  <tbody>\n",
              "    <tr>\n",
              "      <th>0</th>\n",
              "      <td>Porque?</td>\n",
              "      <td>Reginaldo Rossi</td>\n",
              "      <td>spotify:track:28KC2wl7jDv6Ms1Uc0OMpm</td>\n",
              "      <td>0.669</td>\n",
              "      <td>0.547</td>\n",
              "      <td>1</td>\n",
              "      <td>-9.873</td>\n",
              "      <td>0</td>\n",
              "      <td>0.0576</td>\n",
              "      <td>0.3530</td>\n",
              "      <td>0.000</td>\n",
              "      <td>0.0515</td>\n",
              "      <td>0.730</td>\n",
              "      <td>131.073</td>\n",
              "      <td>141067</td>\n",
              "      <td>4</td>\n",
              "      <td>28.79763</td>\n",
              "      <td>6</td>\n",
              "      <td>0</td>\n",
              "    </tr>\n",
              "    <tr>\n",
              "      <th>1</th>\n",
              "      <td>Free Jazz</td>\n",
              "      <td>Maria Teresa Luciani</td>\n",
              "      <td>spotify:track:0zagn8PNnM7pM8pz1gXOAD</td>\n",
              "      <td>0.291</td>\n",
              "      <td>0.300</td>\n",
              "      <td>1</td>\n",
              "      <td>-14.054</td>\n",
              "      <td>0</td>\n",
              "      <td>0.0326</td>\n",
              "      <td>0.9050</td>\n",
              "      <td>0.492</td>\n",
              "      <td>0.1180</td>\n",
              "      <td>0.039</td>\n",
              "      <td>75.619</td>\n",
              "      <td>228224</td>\n",
              "      <td>4</td>\n",
              "      <td>44.10303</td>\n",
              "      <td>9</td>\n",
              "      <td>0</td>\n",
              "    </tr>\n",
              "    <tr>\n",
              "      <th>2</th>\n",
              "      <td>Reject of Society</td>\n",
              "      <td>Crass</td>\n",
              "      <td>spotify:track:18eNASEiuAhO2ML5LBIoG4</td>\n",
              "      <td>0.355</td>\n",
              "      <td>0.968</td>\n",
              "      <td>7</td>\n",
              "      <td>-4.687</td>\n",
              "      <td>1</td>\n",
              "      <td>0.1890</td>\n",
              "      <td>0.0504</td>\n",
              "      <td>0.000</td>\n",
              "      <td>0.1300</td>\n",
              "      <td>0.768</td>\n",
              "      <td>181.291</td>\n",
              "      <td>66800</td>\n",
              "      <td>3</td>\n",
              "      <td>25.23004</td>\n",
              "      <td>6</td>\n",
              "      <td>0</td>\n",
              "    </tr>\n",
              "    <tr>\n",
              "      <th>3</th>\n",
              "      <td>Yeah !</td>\n",
              "      <td>The Jets</td>\n",
              "      <td>spotify:track:1UlJzHc8E5EprQFJxjSyPL</td>\n",
              "      <td>0.598</td>\n",
              "      <td>0.891</td>\n",
              "      <td>6</td>\n",
              "      <td>-11.904</td>\n",
              "      <td>1</td>\n",
              "      <td>0.0552</td>\n",
              "      <td>0.0183</td>\n",
              "      <td>0.836</td>\n",
              "      <td>0.5790</td>\n",
              "      <td>0.826</td>\n",
              "      <td>144.383</td>\n",
              "      <td>155395</td>\n",
              "      <td>4</td>\n",
              "      <td>55.62066</td>\n",
              "      <td>7</td>\n",
              "      <td>0</td>\n",
              "    </tr>\n",
              "    <tr>\n",
              "      <th>4</th>\n",
              "      <td>Gotta Find A Way</td>\n",
              "      <td>The Moments</td>\n",
              "      <td>spotify:track:1Jtlirju8tUXTtvyZJAN5v</td>\n",
              "      <td>0.440</td>\n",
              "      <td>0.376</td>\n",
              "      <td>5</td>\n",
              "      <td>-10.939</td>\n",
              "      <td>1</td>\n",
              "      <td>0.0482</td>\n",
              "      <td>0.3480</td>\n",
              "      <td>0.000</td>\n",
              "      <td>0.0815</td>\n",
              "      <td>0.358</td>\n",
              "      <td>130.438</td>\n",
              "      <td>218333</td>\n",
              "      <td>4</td>\n",
              "      <td>34.90979</td>\n",
              "      <td>12</td>\n",
              "      <td>1</td>\n",
              "    </tr>\n",
              "  </tbody>\n",
              "</table>\n",
              "</div>"
            ],
            "text/plain": [
              "               track                artist  ... sections  target\n",
              "0            Porque?       Reginaldo Rossi  ...        6       0\n",
              "1          Free Jazz  Maria Teresa Luciani  ...        9       0\n",
              "2  Reject of Society                 Crass  ...        6       0\n",
              "3             Yeah !              The Jets  ...        7       0\n",
              "4   Gotta Find A Way           The Moments  ...       12       1\n",
              "\n",
              "[5 rows x 19 columns]"
            ]
          },
          "metadata": {
            "tags": []
          },
          "execution_count": 3
        }
      ]
    },
    {
      "cell_type": "markdown",
      "metadata": {
        "id": "zZZE0sCWu_zR"
      },
      "source": [
        "From these columns, it is appearant that the first three columns will not be considered for regression as they are non numerical. This does present and unfortunate loss of data however to exclude the artist, as artist following may have a large impact on the success of a song. One improvement this dataset could make would be to have a cloumn rating the populattity of the artist. "
      ]
    },
    {
      "cell_type": "code",
      "metadata": {
        "colab": {
          "base_uri": "https://localhost:8080/"
        },
        "id": "FP9Tk7wsmjjr",
        "outputId": "695a70cd-9e59-4410-8075-d1e9566b33e9"
      },
      "source": [
        "print(data.isnull().any())"
      ],
      "execution_count": 4,
      "outputs": [
        {
          "output_type": "stream",
          "text": [
            "track               False\n",
            "artist              False\n",
            "uri                 False\n",
            "danceability        False\n",
            "energy              False\n",
            "key                 False\n",
            "loudness            False\n",
            "mode                False\n",
            "speechiness         False\n",
            "acousticness        False\n",
            "instrumentalness    False\n",
            "liveness            False\n",
            "valence             False\n",
            "tempo               False\n",
            "duration_ms         False\n",
            "time_signature      False\n",
            "chorus_hit          False\n",
            "sections            False\n",
            "target              False\n",
            "dtype: bool\n"
          ],
          "name": "stdout"
        }
      ]
    },
    {
      "cell_type": "markdown",
      "metadata": {
        "id": "F-YJ94uBvqNI"
      },
      "source": [
        "the dataset includes no null values however one feature, key, gives a -1 value to any unkown keys. Let's count this to determine if there is too many unknown keys to make the column usefull. "
      ]
    },
    {
      "cell_type": "code",
      "metadata": {
        "colab": {
          "base_uri": "https://localhost:8080/"
        },
        "id": "huWha63awKYN",
        "outputId": "9bacc8a4-833a-4c4d-f77b-db752f9e038b"
      },
      "source": [
        "print(data.key[data.key == -1].count())"
      ],
      "execution_count": 5,
      "outputs": [
        {
          "output_type": "stream",
          "text": [
            "0\n"
          ],
          "name": "stdout"
        }
      ]
    },
    {
      "cell_type": "code",
      "metadata": {
        "colab": {
          "base_uri": "https://localhost:8080/",
          "height": 297
        },
        "id": "NagzFgwjiaBx",
        "outputId": "d755f765-b817-4569-c76d-3fe1a04f2a08"
      },
      "source": [
        "data.describe()"
      ],
      "execution_count": 6,
      "outputs": [
        {
          "output_type": "execute_result",
          "data": {
            "text/html": [
              "<div>\n",
              "<style scoped>\n",
              "    .dataframe tbody tr th:only-of-type {\n",
              "        vertical-align: middle;\n",
              "    }\n",
              "\n",
              "    .dataframe tbody tr th {\n",
              "        vertical-align: top;\n",
              "    }\n",
              "\n",
              "    .dataframe thead th {\n",
              "        text-align: right;\n",
              "    }\n",
              "</style>\n",
              "<table border=\"1\" class=\"dataframe\">\n",
              "  <thead>\n",
              "    <tr style=\"text-align: right;\">\n",
              "      <th></th>\n",
              "      <th>danceability</th>\n",
              "      <th>energy</th>\n",
              "      <th>key</th>\n",
              "      <th>loudness</th>\n",
              "      <th>mode</th>\n",
              "      <th>speechiness</th>\n",
              "      <th>acousticness</th>\n",
              "      <th>instrumentalness</th>\n",
              "      <th>liveness</th>\n",
              "      <th>valence</th>\n",
              "      <th>tempo</th>\n",
              "      <th>duration_ms</th>\n",
              "      <th>time_signature</th>\n",
              "      <th>chorus_hit</th>\n",
              "      <th>sections</th>\n",
              "      <th>target</th>\n",
              "    </tr>\n",
              "  </thead>\n",
              "  <tbody>\n",
              "    <tr>\n",
              "      <th>count</th>\n",
              "      <td>7766.000000</td>\n",
              "      <td>7766.000000</td>\n",
              "      <td>7766.000000</td>\n",
              "      <td>7766.000000</td>\n",
              "      <td>7766.000000</td>\n",
              "      <td>7766.000000</td>\n",
              "      <td>7766.000000</td>\n",
              "      <td>7766.000000</td>\n",
              "      <td>7766.000000</td>\n",
              "      <td>7766.000000</td>\n",
              "      <td>7766.000000</td>\n",
              "      <td>7.766000e+03</td>\n",
              "      <td>7766.000000</td>\n",
              "      <td>7766.000000</td>\n",
              "      <td>7766.000000</td>\n",
              "      <td>7766.000000</td>\n",
              "    </tr>\n",
              "    <tr>\n",
              "      <th>mean</th>\n",
              "      <td>0.525500</td>\n",
              "      <td>0.527952</td>\n",
              "      <td>5.208344</td>\n",
              "      <td>-11.734270</td>\n",
              "      <td>0.721993</td>\n",
              "      <td>0.062053</td>\n",
              "      <td>0.434240</td>\n",
              "      <td>0.162163</td>\n",
              "      <td>0.199794</td>\n",
              "      <td>0.595993</td>\n",
              "      <td>119.009447</td>\n",
              "      <td>2.399331e+05</td>\n",
              "      <td>3.883981</td>\n",
              "      <td>39.847828</td>\n",
              "      <td>10.761010</td>\n",
              "      <td>0.500000</td>\n",
              "    </tr>\n",
              "    <tr>\n",
              "      <th>std</th>\n",
              "      <td>0.162817</td>\n",
              "      <td>0.235493</td>\n",
              "      <td>3.504480</td>\n",
              "      <td>4.815999</td>\n",
              "      <td>0.448046</td>\n",
              "      <td>0.069837</td>\n",
              "      <td>0.321500</td>\n",
              "      <td>0.306039</td>\n",
              "      <td>0.180526</td>\n",
              "      <td>0.266211</td>\n",
              "      <td>28.381402</td>\n",
              "      <td>1.449736e+05</td>\n",
              "      <td>0.431900</td>\n",
              "      <td>18.287632</td>\n",
              "      <td>5.642133</td>\n",
              "      <td>0.500032</td>\n",
              "    </tr>\n",
              "    <tr>\n",
              "      <th>min</th>\n",
              "      <td>0.063000</td>\n",
              "      <td>0.001100</td>\n",
              "      <td>0.000000</td>\n",
              "      <td>-41.440000</td>\n",
              "      <td>0.000000</td>\n",
              "      <td>0.022500</td>\n",
              "      <td>0.000001</td>\n",
              "      <td>0.000000</td>\n",
              "      <td>0.014600</td>\n",
              "      <td>0.000000</td>\n",
              "      <td>35.732000</td>\n",
              "      <td>2.049300e+04</td>\n",
              "      <td>1.000000</td>\n",
              "      <td>0.000000</td>\n",
              "      <td>0.000000</td>\n",
              "      <td>0.000000</td>\n",
              "    </tr>\n",
              "    <tr>\n",
              "      <th>25%</th>\n",
              "      <td>0.415000</td>\n",
              "      <td>0.354000</td>\n",
              "      <td>2.000000</td>\n",
              "      <td>-14.070000</td>\n",
              "      <td>0.000000</td>\n",
              "      <td>0.033500</td>\n",
              "      <td>0.124000</td>\n",
              "      <td>0.000004</td>\n",
              "      <td>0.092400</td>\n",
              "      <td>0.397000</td>\n",
              "      <td>98.348500</td>\n",
              "      <td>1.732200e+05</td>\n",
              "      <td>4.000000</td>\n",
              "      <td>27.742090</td>\n",
              "      <td>8.000000</td>\n",
              "      <td>0.000000</td>\n",
              "    </tr>\n",
              "    <tr>\n",
              "      <th>50%</th>\n",
              "      <td>0.534500</td>\n",
              "      <td>0.533000</td>\n",
              "      <td>5.000000</td>\n",
              "      <td>-11.046000</td>\n",
              "      <td>1.000000</td>\n",
              "      <td>0.041600</td>\n",
              "      <td>0.409000</td>\n",
              "      <td>0.000599</td>\n",
              "      <td>0.127000</td>\n",
              "      <td>0.638000</td>\n",
              "      <td>117.397500</td>\n",
              "      <td>2.108135e+05</td>\n",
              "      <td>4.000000</td>\n",
              "      <td>35.879100</td>\n",
              "      <td>10.000000</td>\n",
              "      <td>0.500000</td>\n",
              "    </tr>\n",
              "    <tr>\n",
              "      <th>75%</th>\n",
              "      <td>0.646000</td>\n",
              "      <td>0.712000</td>\n",
              "      <td>9.000000</td>\n",
              "      <td>-8.400000</td>\n",
              "      <td>1.000000</td>\n",
              "      <td>0.060475</td>\n",
              "      <td>0.726000</td>\n",
              "      <td>0.100000</td>\n",
              "      <td>0.243000</td>\n",
              "      <td>0.824000</td>\n",
              "      <td>135.085000</td>\n",
              "      <td>2.649732e+05</td>\n",
              "      <td>4.000000</td>\n",
              "      <td>47.213043</td>\n",
              "      <td>12.000000</td>\n",
              "      <td>1.000000</td>\n",
              "    </tr>\n",
              "    <tr>\n",
              "      <th>max</th>\n",
              "      <td>0.961000</td>\n",
              "      <td>0.999000</td>\n",
              "      <td>11.000000</td>\n",
              "      <td>3.744000</td>\n",
              "      <td>1.000000</td>\n",
              "      <td>0.952000</td>\n",
              "      <td>0.996000</td>\n",
              "      <td>0.998000</td>\n",
              "      <td>0.999000</td>\n",
              "      <td>0.990000</td>\n",
              "      <td>241.423000</td>\n",
              "      <td>3.391040e+06</td>\n",
              "      <td>5.000000</td>\n",
              "      <td>220.024500</td>\n",
              "      <td>130.000000</td>\n",
              "      <td>1.000000</td>\n",
              "    </tr>\n",
              "  </tbody>\n",
              "</table>\n",
              "</div>"
            ],
            "text/plain": [
              "       danceability       energy  ...     sections       target\n",
              "count   7766.000000  7766.000000  ...  7766.000000  7766.000000\n",
              "mean       0.525500     0.527952  ...    10.761010     0.500000\n",
              "std        0.162817     0.235493  ...     5.642133     0.500032\n",
              "min        0.063000     0.001100  ...     0.000000     0.000000\n",
              "25%        0.415000     0.354000  ...     8.000000     0.000000\n",
              "50%        0.534500     0.533000  ...    10.000000     0.500000\n",
              "75%        0.646000     0.712000  ...    12.000000     1.000000\n",
              "max        0.961000     0.999000  ...   130.000000     1.000000\n",
              "\n",
              "[8 rows x 16 columns]"
            ]
          },
          "metadata": {
            "tags": []
          },
          "execution_count": 6
        }
      ]
    },
    {
      "cell_type": "code",
      "metadata": {
        "colab": {
          "base_uri": "https://localhost:8080/",
          "height": 507
        },
        "id": "0GKzrNJ1orKB",
        "outputId": "818052a7-46ec-4a4f-f9c8-68d2c315a008"
      },
      "source": [
        "data.corr()"
      ],
      "execution_count": 7,
      "outputs": [
        {
          "output_type": "execute_result",
          "data": {
            "text/html": [
              "<div>\n",
              "<style scoped>\n",
              "    .dataframe tbody tr th:only-of-type {\n",
              "        vertical-align: middle;\n",
              "    }\n",
              "\n",
              "    .dataframe tbody tr th {\n",
              "        vertical-align: top;\n",
              "    }\n",
              "\n",
              "    .dataframe thead th {\n",
              "        text-align: right;\n",
              "    }\n",
              "</style>\n",
              "<table border=\"1\" class=\"dataframe\">\n",
              "  <thead>\n",
              "    <tr style=\"text-align: right;\">\n",
              "      <th></th>\n",
              "      <th>danceability</th>\n",
              "      <th>energy</th>\n",
              "      <th>key</th>\n",
              "      <th>loudness</th>\n",
              "      <th>mode</th>\n",
              "      <th>speechiness</th>\n",
              "      <th>acousticness</th>\n",
              "      <th>instrumentalness</th>\n",
              "      <th>liveness</th>\n",
              "      <th>valence</th>\n",
              "      <th>tempo</th>\n",
              "      <th>duration_ms</th>\n",
              "      <th>time_signature</th>\n",
              "      <th>chorus_hit</th>\n",
              "      <th>sections</th>\n",
              "      <th>target</th>\n",
              "    </tr>\n",
              "  </thead>\n",
              "  <tbody>\n",
              "    <tr>\n",
              "      <th>danceability</th>\n",
              "      <td>1.000000</td>\n",
              "      <td>0.215032</td>\n",
              "      <td>0.001114</td>\n",
              "      <td>0.208268</td>\n",
              "      <td>0.021193</td>\n",
              "      <td>0.071148</td>\n",
              "      <td>-0.186496</td>\n",
              "      <td>-0.267981</td>\n",
              "      <td>-0.132664</td>\n",
              "      <td>0.626128</td>\n",
              "      <td>-0.093498</td>\n",
              "      <td>-0.106790</td>\n",
              "      <td>0.142756</td>\n",
              "      <td>-0.018867</td>\n",
              "      <td>-0.102665</td>\n",
              "      <td>0.275601</td>\n",
              "    </tr>\n",
              "    <tr>\n",
              "      <th>energy</th>\n",
              "      <td>0.215032</td>\n",
              "      <td>1.000000</td>\n",
              "      <td>-0.002024</td>\n",
              "      <td>0.744654</td>\n",
              "      <td>-0.013560</td>\n",
              "      <td>0.084297</td>\n",
              "      <td>-0.637992</td>\n",
              "      <td>-0.237241</td>\n",
              "      <td>0.160789</td>\n",
              "      <td>0.520042</td>\n",
              "      <td>0.224997</td>\n",
              "      <td>-0.012401</td>\n",
              "      <td>0.167981</td>\n",
              "      <td>-0.013006</td>\n",
              "      <td>-0.043197</td>\n",
              "      <td>0.241756</td>\n",
              "    </tr>\n",
              "    <tr>\n",
              "      <th>key</th>\n",
              "      <td>0.001114</td>\n",
              "      <td>-0.002024</td>\n",
              "      <td>1.000000</td>\n",
              "      <td>-0.015602</td>\n",
              "      <td>-0.123617</td>\n",
              "      <td>0.025151</td>\n",
              "      <td>-0.005141</td>\n",
              "      <td>-0.002166</td>\n",
              "      <td>0.010337</td>\n",
              "      <td>-0.002272</td>\n",
              "      <td>-0.001445</td>\n",
              "      <td>0.021490</td>\n",
              "      <td>0.011633</td>\n",
              "      <td>-0.002609</td>\n",
              "      <td>0.017421</td>\n",
              "      <td>-0.021019</td>\n",
              "    </tr>\n",
              "    <tr>\n",
              "      <th>loudness</th>\n",
              "      <td>0.208268</td>\n",
              "      <td>0.744654</td>\n",
              "      <td>-0.015602</td>\n",
              "      <td>1.000000</td>\n",
              "      <td>0.027865</td>\n",
              "      <td>-0.023911</td>\n",
              "      <td>-0.442711</td>\n",
              "      <td>-0.379182</td>\n",
              "      <td>0.107402</td>\n",
              "      <td>0.389742</td>\n",
              "      <td>0.176158</td>\n",
              "      <td>-0.042914</td>\n",
              "      <td>0.117674</td>\n",
              "      <td>-0.016834</td>\n",
              "      <td>-0.055317</td>\n",
              "      <td>0.265339</td>\n",
              "    </tr>\n",
              "    <tr>\n",
              "      <th>mode</th>\n",
              "      <td>0.021193</td>\n",
              "      <td>-0.013560</td>\n",
              "      <td>-0.123617</td>\n",
              "      <td>0.027865</td>\n",
              "      <td>1.000000</td>\n",
              "      <td>-0.029051</td>\n",
              "      <td>0.025311</td>\n",
              "      <td>-0.092605</td>\n",
              "      <td>0.015799</td>\n",
              "      <td>0.032563</td>\n",
              "      <td>0.050250</td>\n",
              "      <td>-0.071467</td>\n",
              "      <td>-0.008974</td>\n",
              "      <td>-0.004539</td>\n",
              "      <td>-0.064851</td>\n",
              "      <td>0.093410</td>\n",
              "    </tr>\n",
              "    <tr>\n",
              "      <th>speechiness</th>\n",
              "      <td>0.071148</td>\n",
              "      <td>0.084297</td>\n",
              "      <td>0.025151</td>\n",
              "      <td>-0.023911</td>\n",
              "      <td>-0.029051</td>\n",
              "      <td>1.000000</td>\n",
              "      <td>0.032701</td>\n",
              "      <td>-0.075667</td>\n",
              "      <td>0.158637</td>\n",
              "      <td>0.007708</td>\n",
              "      <td>0.043396</td>\n",
              "      <td>0.006989</td>\n",
              "      <td>-0.055995</td>\n",
              "      <td>0.023744</td>\n",
              "      <td>-0.011392</td>\n",
              "      <td>-0.127620</td>\n",
              "    </tr>\n",
              "    <tr>\n",
              "      <th>acousticness</th>\n",
              "      <td>-0.186496</td>\n",
              "      <td>-0.637992</td>\n",
              "      <td>-0.005141</td>\n",
              "      <td>-0.442711</td>\n",
              "      <td>0.025311</td>\n",
              "      <td>0.032701</td>\n",
              "      <td>1.000000</td>\n",
              "      <td>0.208905</td>\n",
              "      <td>0.000052</td>\n",
              "      <td>-0.358903</td>\n",
              "      <td>-0.176512</td>\n",
              "      <td>-0.010866</td>\n",
              "      <td>-0.141512</td>\n",
              "      <td>0.012077</td>\n",
              "      <td>0.010631</td>\n",
              "      <td>-0.289887</td>\n",
              "    </tr>\n",
              "    <tr>\n",
              "      <th>instrumentalness</th>\n",
              "      <td>-0.267981</td>\n",
              "      <td>-0.237241</td>\n",
              "      <td>-0.002166</td>\n",
              "      <td>-0.379182</td>\n",
              "      <td>-0.092605</td>\n",
              "      <td>-0.075667</td>\n",
              "      <td>0.208905</td>\n",
              "      <td>1.000000</td>\n",
              "      <td>-0.073389</td>\n",
              "      <td>-0.283312</td>\n",
              "      <td>-0.074295</td>\n",
              "      <td>0.083468</td>\n",
              "      <td>-0.052849</td>\n",
              "      <td>0.024134</td>\n",
              "      <td>0.073975</td>\n",
              "      <td>-0.371937</td>\n",
              "    </tr>\n",
              "    <tr>\n",
              "      <th>liveness</th>\n",
              "      <td>-0.132664</td>\n",
              "      <td>0.160789</td>\n",
              "      <td>0.010337</td>\n",
              "      <td>0.107402</td>\n",
              "      <td>0.015799</td>\n",
              "      <td>0.158637</td>\n",
              "      <td>0.000052</td>\n",
              "      <td>-0.073389</td>\n",
              "      <td>1.000000</td>\n",
              "      <td>-0.019794</td>\n",
              "      <td>0.031529</td>\n",
              "      <td>0.034530</td>\n",
              "      <td>0.003353</td>\n",
              "      <td>0.036430</td>\n",
              "      <td>0.028659</td>\n",
              "      <td>-0.036014</td>\n",
              "    </tr>\n",
              "    <tr>\n",
              "      <th>valence</th>\n",
              "      <td>0.626128</td>\n",
              "      <td>0.520042</td>\n",
              "      <td>-0.002272</td>\n",
              "      <td>0.389742</td>\n",
              "      <td>0.032563</td>\n",
              "      <td>0.007708</td>\n",
              "      <td>-0.358903</td>\n",
              "      <td>-0.283312</td>\n",
              "      <td>-0.019794</td>\n",
              "      <td>1.000000</td>\n",
              "      <td>0.152634</td>\n",
              "      <td>-0.152342</td>\n",
              "      <td>0.149629</td>\n",
              "      <td>-0.049056</td>\n",
              "      <td>-0.139280</td>\n",
              "      <td>0.258680</td>\n",
              "    </tr>\n",
              "    <tr>\n",
              "      <th>tempo</th>\n",
              "      <td>-0.093498</td>\n",
              "      <td>0.224997</td>\n",
              "      <td>-0.001445</td>\n",
              "      <td>0.176158</td>\n",
              "      <td>0.050250</td>\n",
              "      <td>0.043396</td>\n",
              "      <td>-0.176512</td>\n",
              "      <td>-0.074295</td>\n",
              "      <td>0.031529</td>\n",
              "      <td>0.152634</td>\n",
              "      <td>1.000000</td>\n",
              "      <td>-0.045093</td>\n",
              "      <td>-0.021148</td>\n",
              "      <td>-0.041801</td>\n",
              "      <td>-0.005068</td>\n",
              "      <td>0.024487</td>\n",
              "    </tr>\n",
              "    <tr>\n",
              "      <th>duration_ms</th>\n",
              "      <td>-0.106790</td>\n",
              "      <td>-0.012401</td>\n",
              "      <td>0.021490</td>\n",
              "      <td>-0.042914</td>\n",
              "      <td>-0.071467</td>\n",
              "      <td>0.006989</td>\n",
              "      <td>-0.010866</td>\n",
              "      <td>0.083468</td>\n",
              "      <td>0.034530</td>\n",
              "      <td>-0.152342</td>\n",
              "      <td>-0.045093</td>\n",
              "      <td>1.000000</td>\n",
              "      <td>0.007702</td>\n",
              "      <td>0.087444</td>\n",
              "      <td>0.890504</td>\n",
              "      <td>-0.041493</td>\n",
              "    </tr>\n",
              "    <tr>\n",
              "      <th>time_signature</th>\n",
              "      <td>0.142756</td>\n",
              "      <td>0.167981</td>\n",
              "      <td>0.011633</td>\n",
              "      <td>0.117674</td>\n",
              "      <td>-0.008974</td>\n",
              "      <td>-0.055995</td>\n",
              "      <td>-0.141512</td>\n",
              "      <td>-0.052849</td>\n",
              "      <td>0.003353</td>\n",
              "      <td>0.149629</td>\n",
              "      <td>-0.021148</td>\n",
              "      <td>0.007702</td>\n",
              "      <td>1.000000</td>\n",
              "      <td>-0.001794</td>\n",
              "      <td>0.000670</td>\n",
              "      <td>0.130295</td>\n",
              "    </tr>\n",
              "    <tr>\n",
              "      <th>chorus_hit</th>\n",
              "      <td>-0.018867</td>\n",
              "      <td>-0.013006</td>\n",
              "      <td>-0.002609</td>\n",
              "      <td>-0.016834</td>\n",
              "      <td>-0.004539</td>\n",
              "      <td>0.023744</td>\n",
              "      <td>0.012077</td>\n",
              "      <td>0.024134</td>\n",
              "      <td>0.036430</td>\n",
              "      <td>-0.049056</td>\n",
              "      <td>-0.041801</td>\n",
              "      <td>0.087444</td>\n",
              "      <td>-0.001794</td>\n",
              "      <td>1.000000</td>\n",
              "      <td>-0.044866</td>\n",
              "      <td>-0.025696</td>\n",
              "    </tr>\n",
              "    <tr>\n",
              "      <th>sections</th>\n",
              "      <td>-0.102665</td>\n",
              "      <td>-0.043197</td>\n",
              "      <td>0.017421</td>\n",
              "      <td>-0.055317</td>\n",
              "      <td>-0.064851</td>\n",
              "      <td>-0.011392</td>\n",
              "      <td>0.010631</td>\n",
              "      <td>0.073975</td>\n",
              "      <td>0.028659</td>\n",
              "      <td>-0.139280</td>\n",
              "      <td>-0.005068</td>\n",
              "      <td>0.890504</td>\n",
              "      <td>0.000670</td>\n",
              "      <td>-0.044866</td>\n",
              "      <td>1.000000</td>\n",
              "      <td>-0.051034</td>\n",
              "    </tr>\n",
              "    <tr>\n",
              "      <th>target</th>\n",
              "      <td>0.275601</td>\n",
              "      <td>0.241756</td>\n",
              "      <td>-0.021019</td>\n",
              "      <td>0.265339</td>\n",
              "      <td>0.093410</td>\n",
              "      <td>-0.127620</td>\n",
              "      <td>-0.289887</td>\n",
              "      <td>-0.371937</td>\n",
              "      <td>-0.036014</td>\n",
              "      <td>0.258680</td>\n",
              "      <td>0.024487</td>\n",
              "      <td>-0.041493</td>\n",
              "      <td>0.130295</td>\n",
              "      <td>-0.025696</td>\n",
              "      <td>-0.051034</td>\n",
              "      <td>1.000000</td>\n",
              "    </tr>\n",
              "  </tbody>\n",
              "</table>\n",
              "</div>"
            ],
            "text/plain": [
              "                  danceability    energy  ...  sections    target\n",
              "danceability          1.000000  0.215032  ... -0.102665  0.275601\n",
              "energy                0.215032  1.000000  ... -0.043197  0.241756\n",
              "key                   0.001114 -0.002024  ...  0.017421 -0.021019\n",
              "loudness              0.208268  0.744654  ... -0.055317  0.265339\n",
              "mode                  0.021193 -0.013560  ... -0.064851  0.093410\n",
              "speechiness           0.071148  0.084297  ... -0.011392 -0.127620\n",
              "acousticness         -0.186496 -0.637992  ...  0.010631 -0.289887\n",
              "instrumentalness     -0.267981 -0.237241  ...  0.073975 -0.371937\n",
              "liveness             -0.132664  0.160789  ...  0.028659 -0.036014\n",
              "valence               0.626128  0.520042  ... -0.139280  0.258680\n",
              "tempo                -0.093498  0.224997  ... -0.005068  0.024487\n",
              "duration_ms          -0.106790 -0.012401  ...  0.890504 -0.041493\n",
              "time_signature        0.142756  0.167981  ...  0.000670  0.130295\n",
              "chorus_hit           -0.018867 -0.013006  ... -0.044866 -0.025696\n",
              "sections             -0.102665 -0.043197  ...  1.000000 -0.051034\n",
              "target                0.275601  0.241756  ... -0.051034  1.000000\n",
              "\n",
              "[16 rows x 16 columns]"
            ]
          },
          "metadata": {
            "tags": []
          },
          "execution_count": 7
        }
      ]
    },
    {
      "cell_type": "code",
      "metadata": {
        "colab": {
          "base_uri": "https://localhost:8080/"
        },
        "id": "tqazcebgxbOh",
        "outputId": "e6d77839-4f42-4ce7-e14c-7fbf968830cd"
      },
      "source": [
        "print(len(data[data['target']==0]))\n",
        "print(len(data[data['target']==1]))\n"
      ],
      "execution_count": 8,
      "outputs": [
        {
          "output_type": "stream",
          "text": [
            "3883\n",
            "3883\n"
          ],
          "name": "stdout"
        }
      ]
    },
    {
      "cell_type": "markdown",
      "metadata": {
        "id": "JhOLenWOxl1o"
      },
      "source": [
        "**there are exactly the same number of Hits and Flops -- baseline accuracy = 50 %**"
      ]
    },
    {
      "cell_type": "markdown",
      "metadata": {
        "id": "NEfgvBcBYM50"
      },
      "source": [
        "# **Modeling**"
      ]
    },
    {
      "cell_type": "code",
      "metadata": {
        "id": "6GiDH9Blab51"
      },
      "source": [
        "X = data.iloc[:,3:-1]\n",
        "y = data['target']\n",
        "\n",
        "X_train, X_test, y_train, y_test = train_test_split(X, y, test_size=0.3, stratify = y, random_state = 42)"
      ],
      "execution_count": 9,
      "outputs": []
    },
    {
      "cell_type": "markdown",
      "metadata": {
        "id": "dm7NlMcYYsJL"
      },
      "source": [
        "## Mulitple Linear Regression"
      ]
    },
    {
      "cell_type": "code",
      "metadata": {
        "colab": {
          "base_uri": "https://localhost:8080/",
          "height": 445
        },
        "id": "vg7IlW_Yqds_",
        "outputId": "69cfca26-f65b-488f-83b7-f15e1428d40b"
      },
      "source": [
        "model_linear = linear_model.LinearRegression()\n",
        "model_linear.fit(X_train, y_train)\n",
        "pred_linear = model_linear.predict(X_test)\n",
        "\n",
        "#predicition is between 0 and 1 -- round to the nearest integer to predict if the song is a hit \n",
        "rounded = np.round(pred_linear)\n",
        "\n",
        "#compare for accuracy \n",
        "acc_linear = round(metrics.accuracy_score(y_test, rounded),4)\n",
        "print('Linear Regression Accuracy = ', acc_linear)\n",
        "\n",
        "\n",
        "#plot residuals\n",
        "from yellowbrick.regressor import ResidualsPlot\n",
        "visualizer = ResidualsPlot(model_linear)\n",
        "visualizer.fit(X_train, y_train)\n",
        "visualizer.score(X_test, y_test)\n",
        "visualizer.poof()"
      ],
      "execution_count": 10,
      "outputs": [
        {
          "output_type": "stream",
          "text": [
            "Linear Regression Accuracy =  0.7021\n"
          ],
          "name": "stdout"
        },
        {
          "output_type": "stream",
          "text": [
            "/usr/local/lib/python3.7/dist-packages/sklearn/utils/deprecation.py:144: FutureWarning: The sklearn.metrics.classification module is  deprecated in version 0.22 and will be removed in version 0.24. The corresponding classes / functions should instead be imported from sklearn.metrics. Anything that cannot be imported from sklearn.metrics is now part of the private API.\n",
            "  warnings.warn(message, FutureWarning)\n"
          ],
          "name": "stderr"
        },
        {
          "output_type": "display_data",
          "data": {
            "image/png": "[encoded data removed]",
            "text/plain": [
              "<Figure size 576x396 with 2 Axes>"
            ]
          },
          "metadata": {
            "tags": []
          }
        }
      ]
    },
    {
      "cell_type": "markdown",
      "metadata": {
        "id": "rEqrfD-bYf01"
      },
      "source": [
        "## Decision Tree"
      ]
    },
    {
      "cell_type": "code",
      "metadata": {
        "colab": {
          "base_uri": "https://localhost:8080/",
          "height": 698
        },
        "id": "-F0GL-F5aYwa",
        "outputId": "67eb9cef-3e3f-460d-c786-bb417aa6f5c3"
      },
      "source": [
        "dt = DecisionTreeClassifier(max_depth = 6, max_features=15, random_state = 42)\n",
        "dt.fit(X_train, y_train)\n",
        "pred_dt = dt.predict(X_test)\n",
        "\n",
        "#compare for accuracy \n",
        "acc_dt = round(metrics.accuracy_score(y_test, pred_dt),4)\n",
        "print('Decision Tree Accuracy = ', acc_dt)\n",
        "\n",
        "#print the tree\n",
        "from sklearn import tree\n",
        "\n",
        "fn = X.columns\n",
        "classList = list(map(str,dt.classes_.tolist()))\n",
        "\n",
        "plt.figure(figsize=(12,12))\n",
        "tree.plot_tree(dt, feature_names=fn, class_names=classList, filled=True)\n",
        "plt.show()"
      ],
      "execution_count": 11,
      "outputs": [
        {
          "output_type": "stream",
          "text": [
            "Decision Tree Accuracy =  0.7378\n"
          ],
          "name": "stdout"
        },
        {
          "output_type": "display_data",
          "data": {
            "image/png": "[encoded data removed]",
            "text/plain": [
              "<Figure size 864x864 with 1 Axes>"
            ]
          },
          "metadata": {
            "tags": []
          }
        }
      ]
    },
    {
      "cell_type": "markdown",
      "metadata": {
        "id": "xkOBlYauAKSK"
      },
      "source": [
        "## Ada Boost"
      ]
    },
    {
      "cell_type": "code",
      "metadata": {
        "colab": {
          "base_uri": "https://localhost:8080/"
        },
        "id": "EVhLMS-w-lkr",
        "outputId": "c6e67e1c-6603-4682-925c-ed8cf0033c4a"
      },
      "source": [
        "base_est = DecisionTreeClassifier(max_depth =6, max_features=15, random_state = 42)\n",
        "\n",
        "ada_boost = AdaBoostClassifier(base_est, n_estimators=100)\n",
        "ada_boost.fit(X_train, y_train)\n",
        "\n",
        "acc_boost = accuracy_score(y_test, ada_boost.predict(X_test))\n",
        "print('Ada Boost Accuracy = ', round(acc_boost,4))"
      ],
      "execution_count": 12,
      "outputs": [
        {
          "output_type": "stream",
          "text": [
            "Ada Boost Accuracy =  0.7296\n"
          ],
          "name": "stdout"
        }
      ]
    },
    {
      "cell_type": "markdown",
      "metadata": {
        "id": "uTUxHpw5ZTko"
      },
      "source": [
        "## Bagging"
      ]
    },
    {
      "cell_type": "code",
      "metadata": {
        "colab": {
          "base_uri": "https://localhost:8080/"
        },
        "id": "d7JGsGxraX5j",
        "outputId": "3eb4438c-4c15-4dd7-b293-3d1bb148f294"
      },
      "source": [
        "base_est = DecisionTreeClassifier(max_depth =6, max_features=15, random_state = 42)\n",
        "\n",
        "model_bagging = BaggingClassifier(base_estimator = base_est, n_estimators = 100)\n",
        "model_bagging.fit(X_train, y_train)\n",
        "pred_bagging = model_bagging.predict(X_test)\n",
        "\n",
        "acc_bagging = round(metrics.accuracy_score(y_test, pred_bagging),4)\n",
        "print('Bagging Accuracy = ', acc_bagging)"
      ],
      "execution_count": 13,
      "outputs": [
        {
          "output_type": "stream",
          "text": [
            "Bagging Accuracy =  0.7584\n"
          ],
          "name": "stdout"
        }
      ]
    },
    {
      "cell_type": "markdown",
      "metadata": {
        "id": "H6A9sDzFY435"
      },
      "source": [
        "## Random Forest"
      ]
    },
    {
      "cell_type": "code",
      "metadata": {
        "colab": {
          "base_uri": "https://localhost:8080/"
        },
        "id": "zCv0FCa4aYTW",
        "outputId": "f9baa31e-cee4-49f1-cc18-5edde4637c90"
      },
      "source": [
        "model_rf = RandomForestClassifier(n_estimators=100, max_depth =6, max_features=15, random_state = 42)\n",
        "model_rf.fit(X_train, y_train)\n",
        "pred_rf = model_rf.predict(X_test)\n",
        "\n",
        "#compare for accuracy \n",
        "acc_forest = round(metrics.accuracy_score(y_test, pred_rf),4)\n",
        "print('Random Forest Accuracy = ', acc_forest)\n"
      ],
      "execution_count": 14,
      "outputs": [
        {
          "output_type": "stream",
          "text": [
            "Random Forest Accuracy =  0.7588\n"
          ],
          "name": "stdout"
        }
      ]
    },
    {
      "cell_type": "markdown",
      "metadata": {
        "id": "3eNXl2LcZd8H"
      },
      "source": [
        "## Most promising model"
      ]
    },
    {
      "cell_type": "code",
      "metadata": {
        "colab": {
          "base_uri": "https://localhost:8080/"
        },
        "id": "SNhRTcui37Ks",
        "outputId": "be7ce258-f2cb-4340-9403-384e471d2a53"
      },
      "source": [
        "print('Linear Regression Accuracy = ', acc_linear)\n",
        "print('Decision Tree Accuracy = ', acc_dt)\n",
        "print('AdaBoost Accuracy = ', round(acc_boost,4))\n",
        "print('Bagging Accuracy = ', acc_bagging)\n",
        "print('Random Forest Accuracy = ', acc_forest)\n",
        "\n",
        "bestModel = {'Bagging': acc_bagging, 'Random Forest': acc_forest, 'AdaBoost': round(acc_boost,4), 'Linear Regression': acc_linear, 'Decision Tree':acc_dt}\n",
        "print(\"\\nBest Model Accuracy:\", max(bestModel, key = bestModel.get))"
      ],
      "execution_count": 15,
      "outputs": [
        {
          "output_type": "stream",
          "text": [
            "Linear Regression Accuracy =  0.7021\n",
            "Decision Tree Accuracy =  0.7378\n",
            "AdaBoost Accuracy =  0.7296\n",
            "Bagging Accuracy =  0.7584\n",
            "Random Forest Accuracy =  0.7588\n",
            "\n",
            "Best Model Accuracy: Random Forest\n"
          ],
          "name": "stdout"
        }
      ]
    },
    {
      "cell_type": "markdown",
      "metadata": {
        "id": "8m0fxayzxZuq"
      },
      "source": [
        "\n",
        "Random Forest was the best classification method (of those explored) to use on this data as it had the highest accuracy score. It is the best fit because it has the most diversity of trees and accounts for the high variability in the data. This is a good model for the data due to the large number of features and the indepedence of each feature. "
      ]
    },
    {
      "cell_type": "markdown",
      "metadata": {
        "id": "5RjFHDkwZigj"
      },
      "source": [
        "# **Cross Validation**"
      ]
    },
    {
      "cell_type": "code",
      "metadata": {
        "colab": {
          "base_uri": "https://localhost:8080/"
        },
        "id": "KoOP7Rox9fNk",
        "outputId": "7d05cfeb-b455-4686-f0f8-438b5630521f"
      },
      "source": [
        "# split the data three ways\n",
        "\n",
        "X = data.iloc[:,3:-1]\n",
        "y = data['target']\n",
        "\n",
        "X_train, X_test, y_train, y_test = train_test_split(X, y, test_size=0.395, stratify = y, random_state = 42)\n",
        "X_val, X_test, y_val, y_test = train_test_split(X_test, y_test, test_size=0.5, stratify = y_test, random_state = 42)\n",
        "\n",
        "print(X.shape, y.shape)\n",
        "print(X_train.shape, y_train.shape)\n",
        "print(X_val.shape, y_val.shape)\n",
        "print(X_test.shape, y_test.shape)"
      ],
      "execution_count": 3,
      "outputs": [
        {
          "output_type": "stream",
          "text": [
            "(7766, 15) (7766,)\n",
            "(4698, 15) (4698,)\n",
            "(1534, 15) (1534,)\n",
            "(1534, 15) (1534,)\n"
          ],
          "name": "stdout"
        }
      ]
    },
    {
      "cell_type": "code",
      "metadata": {
        "colab": {
          "base_uri": "https://localhost:8080/"
        },
        "id": "eExnJXLGN8rq",
        "outputId": "c91fc0c5-7c4d-43fa-d0e8-3e73e126a720"
      },
      "source": [
        "model_rf = RandomForestClassifier(n_estimators=100, max_depth =6, max_features=15, random_state = 42)\n",
        "model_rf.fit(X_train, y_train)\n",
        "pred_rf2 = model_rf.predict(X_val)\n",
        "\n",
        "print(\"Cross Validation Score: \", cross_val_score(model_rf, X_val, y_val, cv=10, scoring='accuracy').mean())\n",
        "\n",
        "acc_forest2 = round(metrics.accuracy_score(y_val, pred_rf2),4)\n",
        "print('Random Forest Accuracy= ', acc_forest2)"
      ],
      "execution_count": 4,
      "outputs": [
        {
          "output_type": "stream",
          "text": [
            "Cross Validation Score:  0.7613784907902554\n",
            "Random Forest Accuracy=  0.7764\n"
          ],
          "name": "stdout"
        }
      ]
    },
    {
      "cell_type": "code",
      "metadata": {
        "colab": {
          "base_uri": "https://localhost:8080/"
        },
        "id": "dViHEoXTBbKd",
        "outputId": "0faf5506-fa98-432a-8df8-818dfd126f02"
      },
      "source": [
        "# find the optimal depth and features\n",
        "\n",
        "depth = []\n",
        "features = []\n",
        "for i in range(3,16):\n",
        "    rf1 = RandomForestClassifier(n_estimators=100, max_depth=i)\n",
        "    rf1 = rf1.fit(X_train,y_train)\n",
        "    scores1 = cross_val_score(estimator=rf1, X=X_val, y=y_val, cv=10)\n",
        "    depth.append((i,scores1.mean()))\n",
        "\n",
        "    rf2 = RandomForestClassifier(n_estimators=100, max_features=i)\n",
        "    rf2 = rf2.fit(X_train,y_train)\n",
        "    scores2 = cross_val_score(estimator=rf2, X=X_val, y=y_val, cv=10)\n",
        "    features.append((i,scores2.mean()))\n",
        "\n",
        "print(depth)\n",
        "print(features)\n",
        "\n",
        "#best depth = 13\n",
        "#best features = 9"
      ],
      "execution_count": 5,
      "outputs": [
        {
          "output_type": "stream",
          "text": [
            "[(3, 0.7437866055513114), (4, 0.7594516594516595), (5, 0.7653255241490535), (6, 0.7666242254477548), (7, 0.7705415499533146), (8, 0.7724980901451489), (9, 0.7705500381970969), (10, 0.7724896019013666), (11, 0.7672735760971054), (12, 0.7718020541549953), (13, 0.7750870044987692), (14, 0.7653043035395977), (15, 0.769870978694508)]\n",
            "[(3, 0.7705415499533146), (4, 0.7705245734657499), (5, 0.7698964434258551), (6, 0.7764154146507087), (7, 0.7718402512520159), (8, 0.7744588744588744), (9, 0.7822892793481028), (10, 0.7718572277395805), (11, 0.7712163653340124), (12, 0.7712290976996858), (13, 0.7705670146846617), (14, 0.773818012053306), (15, 0.7679314149902384)]\n"
          ],
          "name": "stdout"
        }
      ]
    },
    {
      "cell_type": "code",
      "metadata": {
        "id": "z2dNFfSjZ6iZ",
        "colab": {
          "base_uri": "https://localhost:8080/",
          "height": 721
        },
        "outputId": "dc07a4a3-34f4-40c3-ea31-83711b89af39"
      },
      "source": [
        "# find optimal n estimators\n",
        "\n",
        "n_estimators = [3,10,50,100,150, 200, 250, 300, 400, 500]\n",
        "\n",
        "train_error = []\n",
        "test_error = []\n",
        "\n",
        "for i in n_estimators:\n",
        "    RF = RandomForestRegressor(n_estimators=i, max_depth =13, max_features=10, random_state = 42)\n",
        "    RF.fit(X_train, y_train)\n",
        "    train_error.append(np.sqrt(mean_squared_error(y_train, RF.predict(X_train))))\n",
        "    test_error.append(np.sqrt(mean_squared_error(y_test, RF.predict(X_test))))\n",
        "\n",
        "plt.figure(figsize = (15, 10))\n",
        "plt.title('Random Forest: Model Complexity vs RMSE', fontsize=20)\n",
        "plt.ylabel('RMSE', fontsize=20)\n",
        "plt.xlabel('Number of Trees', fontsize=20)\n",
        "sns.lineplot(n_estimators, train_error, label='Train')\n",
        "sns.lineplot(n_estimators, test_error, color='r', label='Test')\n",
        "plt.show()"
      ],
      "execution_count": 6,
      "outputs": [
        {
          "output_type": "stream",
          "text": [
            "/usr/local/lib/python3.7/dist-packages/seaborn/_decorators.py:43: FutureWarning: Pass the following variables as keyword args: x, y. From version 0.12, the only valid positional argument will be `data`, and passing other arguments without an explicit keyword will result in an error or misinterpretation.\n",
            "  FutureWarning\n",
            "/usr/local/lib/python3.7/dist-packages/seaborn/_decorators.py:43: FutureWarning: Pass the following variables as keyword args: x, y. From version 0.12, the only valid positional argument will be `data`, and passing other arguments without an explicit keyword will result in an error or misinterpretation.\n",
            "  FutureWarning\n"
          ],
          "name": "stderr"
        },
        {
          "output_type": "display_data",
          "data": {
            "image/png": "[encoded data removed]",
            "text/plain": [
              "<Figure size 1080x720 with 1 Axes>"
            ]
          },
          "metadata": {
            "tags": [],
            "needs_background": "light"
          }
        }
      ]
    },
    {
      "cell_type": "code",
      "metadata": {
        "colab": {
          "base_uri": "https://localhost:8080/"
        },
        "id": "KGCjErlcQqju",
        "outputId": "18b5e21e-9a24-4fbe-b49e-1cdb48ecafd1"
      },
      "source": [
        "model_rf_cv = RandomForestClassifier(n_estimators=500, max_depth =13, max_features=9, random_state = 42)\n",
        "model_rf_cv.fit(X_train, y_train)\n",
        "pred_rf_cv = model_rf_cv.predict(X_test)\n",
        "\n",
        "print(\"Cross Validation Score after cross validation: \", cross_val_score(model_rf_cv, X_val, y_val, cv=10, scoring='accuracy').mean())\n",
        "\n",
        "acc_forest_cv = round(metrics.accuracy_score(y_test, pred_rf_cv),4)\n",
        "print('Random Forest Accuracy after cross validation= ', acc_forest_cv)"
      ],
      "execution_count": 7,
      "outputs": [
        {
          "output_type": "stream",
          "text": [
            "Cross Validation Score after cross validation:  0.7764069264069263\n",
            "Random Forest Accuracy after cross validation=  0.766\n"
          ],
          "name": "stdout"
        }
      ]
    },
    {
      "cell_type": "markdown",
      "metadata": {
        "id": "JBkUXUCN8OA4"
      },
      "source": [
        "# **Lasso Model**"
      ]
    },
    {
      "cell_type": "code",
      "metadata": {
        "colab": {
          "base_uri": "https://localhost:8080/"
        },
        "id": "LcVFlrVxfoz-",
        "outputId": "35358541-8eff-49c1-b43f-bdf957877be3"
      },
      "source": [
        "\n",
        "alpha_space = np.logspace(-4, 0, 50)\n",
        "model_scores = []\n",
        "\n",
        "lasso_model = Lasso(normalize=True)\n",
        "for alpha in alpha_space:\n",
        "\n",
        "    # Specify the alpha value to use\n",
        "    lasso_model.alpha = alpha\n",
        "    \n",
        "    # Perform 10-fold CV\n",
        "    lasso_cv_scores = cross_val_score(lasso_model,X,y,cv=10)\n",
        "    \n",
        "    # Append the mean of lasso_cv_scores to model_scores = []\n",
        "    model_scores.append(np.mean(lasso_cv_scores))\n",
        "\n",
        "print(model_scores)"
      ],
      "execution_count": 26,
      "outputs": [
        {
          "output_type": "stream",
          "text": [
            "[0.2366879784387188, 0.23613493543804384, 0.2353147913872705, 0.23407464795674987, 0.2322393016836309, 0.22958243840072523, 0.2257040760213444, 0.22001735270515396, 0.2126808498831127, 0.20392389053730575, 0.19141561690327855, 0.1735350058698432, 0.1534207067718195, 0.12916961245794772, 0.09398991702953596, 0.057133361001300495, 0.021168905380864446, -0.002629731983664607, -0.002629731983664607, -0.002629731983664607, -0.002629731983664607, -0.002629731983664607, -0.002629731983664607, -0.002629731983664607, -0.002629731983664607, -0.002629731983664607, -0.002629731983664607, -0.002629731983664607, -0.002629731983664607, -0.002629731983664607, -0.002629731983664607, -0.002629731983664607, -0.002629731983664607, -0.002629731983664607, -0.002629731983664607, -0.002629731983664607, -0.002629731983664607, -0.002629731983664607, -0.002629731983664607, -0.002629731983664607, -0.002629731983664607, -0.002629731983664607, -0.002629731983664607, -0.002629731983664607, -0.002629731983664607, -0.002629731983664607, -0.002629731983664607, -0.002629731983664607, -0.002629731983664607, -0.002629731983664607]\n"
          ],
          "name": "stdout"
        }
      ]
    },
    {
      "cell_type": "code",
      "metadata": {
        "colab": {
          "base_uri": "https://localhost:8080/"
        },
        "id": "nIBGA6RLsC5u",
        "outputId": "76f49fc2-79f5-4a0a-de71-e79218a0513e"
      },
      "source": [
        "# best alpha index for lasso \n",
        "print(np.argmax(model_scores))\n",
        "#plus in this index to the list of alphas "
      ],
      "execution_count": 27,
      "outputs": [
        {
          "output_type": "stream",
          "text": [
            "0\n"
          ],
          "name": "stdout"
        }
      ]
    },
    {
      "cell_type": "code",
      "metadata": {
        "colab": {
          "base_uri": "https://localhost:8080/"
        },
        "id": "6poH-8r9sDat",
        "outputId": "7c3b76d2-ef94-46df-cb64-bf3707354a01"
      },
      "source": [
        "#best alpha to use \n",
        "print(alpha_space[0])\n",
        "# this is th best alpha to use in the model"
      ],
      "execution_count": 28,
      "outputs": [
        {
          "output_type": "stream",
          "text": [
            "0.0001\n"
          ],
          "name": "stdout"
        }
      ]
    },
    {
      "cell_type": "code",
      "metadata": {
        "colab": {
          "base_uri": "https://localhost:8080/"
        },
        "id": "vjiBN1MyteuE",
        "outputId": "ea4221d2-8047-431a-db1a-3c52ddaf9aff"
      },
      "source": [
        "from sklearn.linear_model import Lasso\n",
        "\n",
        "#use the alpha previously found \n",
        "alpha_user = 0.0001\n",
        "lasso_model = Lasso(alpha=alpha_user,normalize=True)\n",
        "lasso_model.fit(X_train,y_train)\n",
        "lasso_pred = lasso_model.predict(X_test)\n",
        "\n",
        "#predicition is between 0 and 1 -- round to the nearest integer to predict if the song is a hit \n",
        "rounded_lasso = np.round(lasso_pred)\n",
        "\n",
        "print(\"Lasso Model Accuracy:\", metrics.accuracy_score(y_test, rounded_lasso))\n",
        "\n",
        "print(\"\\nLasso Model Coefficients:\", lasso_model.coef_)\n",
        "\n",
        "cols = list(X.columns.values)\n",
        "lasso_importance = pd.DataFrame(lasso_model.coef_, index=cols).nlargest(3,[0])\n",
        "print(\"\\nLargest Lasso coefficients:\\n\", lasso_importance)"
      ],
      "execution_count": 29,
      "outputs": [
        {
          "output_type": "stream",
          "text": [
            "Lasso Model Accuracy: 0.7092568448500652\n",
            "\n",
            "Lasso Model Coefficients: [ 4.63193207e-01  2.93370942e-02 -7.97097290e-04  2.30831159e-03\n",
            "  4.13567221e-02 -9.22593900e-01 -2.29830952e-01 -4.54539885e-01\n",
            " -3.37812549e-02 -0.00000000e+00 -0.00000000e+00  0.00000000e+00\n",
            "  5.09027658e-02 -2.68405380e-05 -3.69306384e-04]\n",
            "\n",
            "Largest Lasso coefficients:\n",
            "                        0\n",
            "danceability    0.463193\n",
            "time_signature  0.050903\n",
            "mode            0.041357\n"
          ],
          "name": "stdout"
        }
      ]
    },
    {
      "cell_type": "markdown",
      "metadata": {
        "id": "JEzH_Nz7uMFh"
      },
      "source": [
        "The Lasso model score is similar to the linear regression model -- very low and not a good fit for the data. It's coefficients shows that the first feature, danceability, is the most important feature. This is not surprising as we are analyzing music from the 1970s"
      ]
    },
    {
      "cell_type": "markdown",
      "metadata": {
        "id": "qvcYb26JZoXk"
      },
      "source": [
        "# **Performance**\n",
        "Using a Random Forest Model"
      ]
    },
    {
      "cell_type": "code",
      "metadata": {
        "colab": {
          "base_uri": "https://localhost:8080/"
        },
        "id": "N5w5OLr3XbB-",
        "outputId": "090f5e4f-38c5-4b53-9653-341549d0dec0"
      },
      "source": [
        "print(classification_report(y_test, pred_rf_cv))\n"
      ],
      "execution_count": 30,
      "outputs": [
        {
          "output_type": "stream",
          "text": [
            "              precision    recall  f1-score   support\n",
            "\n",
            "           0       0.80      0.71      0.76       767\n",
            "           1       0.74      0.83      0.78       767\n",
            "\n",
            "    accuracy                           0.77      1534\n",
            "   macro avg       0.77      0.77      0.77      1534\n",
            "weighted avg       0.77      0.77      0.77      1534\n",
            "\n"
          ],
          "name": "stdout"
        }
      ]
    },
    {
      "cell_type": "markdown",
      "metadata": {
        "id": "skaO4EV3Zt7O"
      },
      "source": [
        "# **Graphing and Other Insights**"
      ]
    },
    {
      "cell_type": "code",
      "metadata": {
        "colab": {
          "base_uri": "https://localhost:8080/"
        },
        "id": "1fhJ4_ms3VoX",
        "outputId": "c16f1d2f-45e2-4d1d-b1cd-b8cbd42ad194"
      },
      "source": [
        "#most important features \n",
        "\n",
        "feature_importances = model_rf_cv.feature_importances_\n",
        "features = X_train.columns\n",
        "df = pd.DataFrame({'features': features, 'importance': feature_importances}).nlargest(3, 'importance')\n",
        "print(df)"
      ],
      "execution_count": 32,
      "outputs": [
        {
          "output_type": "stream",
          "text": [
            "            features  importance\n",
            "7   instrumentalness    0.188803\n",
            "6       acousticness    0.137006\n",
            "11       duration_ms    0.111546\n"
          ],
          "name": "stdout"
        }
      ]
    },
    {
      "cell_type": "code",
      "metadata": {
        "colab": {
          "base_uri": "https://localhost:8080/",
          "height": 457
        },
        "id": "pFuCgYLrzbaT",
        "outputId": "91fb89d1-b96b-4585-8267-43b573494eaa"
      },
      "source": [
        "# list of x locations for plotting\n",
        "x_values = list(range(len(feature_importances)))\n",
        "# Make a bar chart\n",
        "plt.bar(x_values, feature_importances, orientation = 'vertical')\n",
        "# Tick labels for x axis\n",
        "plt.xticks(x_values, X.columns, rotation='vertical')\n",
        "# Axis labels and title\n",
        "plt.ylabel('Importance')\n",
        "plt.xlabel('Variable')\n",
        "plt.title('Variable Importances')"
      ],
      "execution_count": 33,
      "outputs": [
        {
          "output_type": "execute_result",
          "data": {
            "text/plain": [
              "Text(0.5, 1.0, 'Variable Importances')"
            ]
          },
          "metadata": {
            "tags": []
          },
          "execution_count": 33
        },
        {
          "output_type": "display_data",
          "data": {
            "image/png": "[encoded data removed]",
            "text/plain": [
              "<Figure size 576x396 with 1 Axes>"
            ]
          },
          "metadata": {
            "tags": []
          }
        }
      ]
    },
    {
      "cell_type": "code",
      "metadata": {
        "colab": {
          "base_uri": "https://localhost:8080/",
          "height": 376
        },
        "id": "hgL_UpFS11LB",
        "outputId": "84220c74-83d4-4245-8e8f-c0a651b787f8"
      },
      "source": [
        "plt.hist(data.instrumentalness, bins = 50)\n",
        "plt.xlabel('value')\n",
        "plt.ylabel('count')\n",
        "plt.title('Histogram of Instrumentalness')\n",
        "\n",
        "plt.show()"
      ],
      "execution_count": 34,
      "outputs": [
        {
          "output_type": "display_data",
          "data": {
            "image/png": "[encoded data removed]",
            "text/plain": [
              "<Figure size 576x396 with 1 Axes>"
            ]
          },
          "metadata": {
            "tags": []
          }
        }
      ]
    },
    {
      "cell_type": "markdown",
      "metadata": {
        "id": "KM4ut1G22ILy"
      },
      "source": [
        "Instrumentalness seems to be a highly skewed feature. Considering it is heavly considered in the Random Forest model, it might be wise to remove it and see if the accuracy improves. \n",
        "\n",
        "Danceability was the most important feature int the Lasso model and is more equally weighted."
      ]
    },
    {
      "cell_type": "code",
      "metadata": {
        "colab": {
          "base_uri": "https://localhost:8080/",
          "height": 376
        },
        "id": "fJ5KPjNO9zDm",
        "outputId": "9b9a6aaa-8b04-4f23-dc2c-ff08666b2854"
      },
      "source": [
        "plt.hist(data.danceability, bins = 50)\n",
        "plt.xlabel('value')\n",
        "plt.ylabel('count')\n",
        "plt.title('Histogram of Danceability')\n",
        "\n",
        "plt.show()"
      ],
      "execution_count": 35,
      "outputs": [
        {
          "output_type": "display_data",
          "data": {
            "image/png": "[encoded data removed]",
            "text/plain": [
              "<Figure size 576x396 with 1 Axes>"
            ]
          },
          "metadata": {
            "tags": []
          }
        }
      ]
    },
    {
      "cell_type": "markdown",
      "metadata": {
        "id": "ZgDV_szGt_LN"
      },
      "source": [
        "### What makes the perfect song?"
      ]
    },
    {
      "cell_type": "code",
      "metadata": {
        "id": "R8xGX6f8Z7Cc",
        "colab": {
          "base_uri": "https://localhost:8080/"
        },
        "outputId": "cc78f8f0-fe0d-4add-d270-21aecac28e6d"
      },
      "source": [
        "data[data.target == 1].mean()"
      ],
      "execution_count": 36,
      "outputs": [
        {
          "output_type": "execute_result",
          "data": {
            "text/plain": [
              "danceability             0.570370\n",
              "energy                   0.584880\n",
              "key                      5.134690\n",
              "loudness               -10.456478\n",
              "mode                     0.763842\n",
              "speechiness              0.053141\n",
              "acousticness             0.341048\n",
              "instrumentalness         0.048343\n",
              "liveness                 0.193293\n",
              "valence                  0.664852\n",
              "tempo                  119.704382\n",
              "duration_ms         233918.058460\n",
              "time_signature           3.940252\n",
              "chorus_hit              39.377945\n",
              "sections                10.473088\n",
              "target                   1.000000\n",
              "dtype: float64"
            ]
          },
          "metadata": {
            "tags": []
          },
          "execution_count": 36
        }
      ]
    },
    {
      "cell_type": "markdown",
      "metadata": {
        "id": "EgaRsxCVuo1T"
      },
      "source": [
        "### What artist had the most hits?"
      ]
    },
    {
      "cell_type": "code",
      "metadata": {
        "colab": {
          "base_uri": "https://localhost:8080/"
        },
        "id": "RrM07CCKu3XL",
        "outputId": "158b88a4-4e60-4461-ab54-8d8bf360f369"
      },
      "source": [
        "hit_artists = data[data.target == 1].iloc[:,:2]\n",
        "hit_artists = hit_artists.groupby('artist').count()\n",
        "hit_artists = hit_artists.sort_values(by=['track'], ascending=False)\n",
        "\n",
        "print(hit_artists.head())\n"
      ],
      "execution_count": 37,
      "outputs": [
        {
          "output_type": "stream",
          "text": [
            "              track\n",
            "artist             \n",
            "Neil Diamond     24\n",
            "John Denver      24\n",
            "Chicago          23\n",
            "Elton John       23\n",
            "Bee Gees         22\n"
          ],
          "name": "stdout"
        }
      ]
    }
  ]
}